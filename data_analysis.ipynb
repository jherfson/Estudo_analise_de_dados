{
 "cells": [
  {
   "cell_type": "markdown",
   "metadata": {},
   "source": [
    "# **Algumas coisas interessantes de Python**\n",
    "\n",
    "Compreensões de lista são um recurso de linguagem Python conveniente e amplamente utilizado. Eles permitem que você forme de forma concisa uma nova lista filtrando os elementos de uma coleção, transformando os elementos que passam o filtro em uma expressão concisa. Eles assumem a forma básica:\n",
    "\n",
    "``` [expr for value in collection if condition]```\n",
    "\n",
    "Isso é equivalente ao seguinte `for` o laço:\n",
    "\n",
    "```   \n",
    "result = []\n",
    "for value in collection:\n",
    "    if condition:\n",
    "        result.append(expr)\n",
    "```\n",
    "A condição do filtro pode ser omitida, deixando apenas a expressão. Por exemplo, dada uma lista de strings, podemos filtrar strings com comprimento 2ou menos e convertê-los em maiúsculas como esta:"
   ]
  },
  {
   "cell_type": "code",
   "execution_count": 2,
   "metadata": {},
   "outputs": [],
   "source": [
    "strings = [\"a\", \"as\", \"bat\", \"car\", \"dove\", \"python\"]"
   ]
  },
  {
   "cell_type": "code",
   "execution_count": 3,
   "metadata": {},
   "outputs": [
    {
     "data": {
      "text/plain": [
       "['BAT', 'CAR', 'DOVE', 'PYTHON']"
      ]
     },
     "execution_count": 3,
     "metadata": {},
     "output_type": "execute_result"
    }
   ],
   "source": [
    "[x.upper() for x in strings if len(x) > 2]"
   ]
  },
  {
   "cell_type": "markdown",
   "metadata": {},
   "source": [
    "As compreensões de conjunto e dicionário são uma extensão natural, produzindo conjuntos e dicionários de uma maneira idiomática semelhante em vez de listas.\n",
    "\n",
    "``` \n",
    "dict_comp = {key-expr: value-expr for value in collection\n",
    "             if condition}\n",
    "```\n",
    "Uma compreensão de conjunto parece a compreensão da lista equivalente, exceto com chaves encaracoladas em vez de colchetes:\n",
    "``` \n",
    "set_comp = {expr for value in collection if condition}\n",
    "```\n",
    "\n",
    "Como as compreensões de lista, as compreensões de conjunto e dicionário são principalmente conveniências, mas da mesma forma podem tornar o código mais fácil de escrever e ler. Considere a lista de strings de antes. Suponha que quiséssemos um conjunto contendo apenas os comprimentos das cadeias contidas na coleção; poderíamos facilmente calcular isso usando uma compreensão de conjunto:"
   ]
  },
  {
   "cell_type": "code",
   "execution_count": 6,
   "metadata": {},
   "outputs": [
    {
     "data": {
      "text/plain": [
       "{1, 2, 3, 4, 6}"
      ]
     },
     "execution_count": 6,
     "metadata": {},
     "output_type": "execute_result"
    }
   ],
   "source": [
    "unique_lengths = {len(x) for x in strings}\n",
    "unique_lengths"
   ]
  },
  {
   "cell_type": "markdown",
   "metadata": {},
   "source": [
    "Também poderíamos expressar isso mais funcionalmente usando o mapFunção, introduzida em breve:"
   ]
  },
  {
   "cell_type": "code",
   "execution_count": 7,
   "metadata": {},
   "outputs": [
    {
     "data": {
      "text/plain": [
       "{1, 2, 3, 4, 6}"
      ]
     },
     "execution_count": 7,
     "metadata": {},
     "output_type": "execute_result"
    }
   ],
   "source": [
    "set(map(len, strings))"
   ]
  },
  {
   "cell_type": "markdown",
   "metadata": {},
   "source": [
    "Como um simples exemplo de compreensão do dicionário, podemos criar um mapa de busca dessas strings para suas localizações na lista:"
   ]
  },
  {
   "cell_type": "code",
   "execution_count": 8,
   "metadata": {},
   "outputs": [
    {
     "data": {
      "text/plain": [
       "{'a': 0, 'as': 1, 'bat': 2, 'car': 3, 'dove': 4, 'python': 5}"
      ]
     },
     "execution_count": 8,
     "metadata": {},
     "output_type": "execute_result"
    }
   ],
   "source": [
    "loc_mapping = {value: index for index, value in enumerate(strings)}\n",
    "loc_mapping"
   ]
  },
  {
   "cell_type": "markdown",
   "metadata": {},
   "source": [
    "## **Compreensões de lista aninhadas**\n",
    "\n",
    "Suponha que temos uma lista de listas contendo alguns nomes em inglês e espanhol:"
   ]
  },
  {
   "cell_type": "code",
   "execution_count": 10,
   "metadata": {},
   "outputs": [],
   "source": [
    "all_data = [[\"John\", \"Emily\", \"Michael\", \"Mary\", \"Steven\"],\n",
    "           [\"Maria\", \"Juan\", \"Javier\", \"Natalia\", \"Pilar\"]]"
   ]
  },
  {
   "cell_type": "code",
   "execution_count": 11,
   "metadata": {},
   "outputs": [],
   "source": [
    "names_of_interest = []"
   ]
  },
  {
   "cell_type": "code",
   "execution_count": 12,
   "metadata": {},
   "outputs": [],
   "source": [
    "for names in all_data:\n",
    "   enough_as = [name for name in names if name.count(\"a\") >= 2]\n",
    "   names_of_interest.extend(enough_as)"
   ]
  },
  {
   "cell_type": "code",
   "execution_count": 13,
   "metadata": {},
   "outputs": [
    {
     "data": {
      "text/plain": [
       "['Maria', 'Natalia']"
      ]
     },
     "execution_count": 13,
     "metadata": {},
     "output_type": "execute_result"
    }
   ],
   "source": [
    "names_of_interest"
   ]
  },
  {
   "cell_type": "markdown",
   "metadata": {},
   "source": [
    "Você pode realmente envolver toda essa operação em uma única compreensão de lista aninhada, que será como:"
   ]
  },
  {
   "cell_type": "code",
   "execution_count": 14,
   "metadata": {},
   "outputs": [],
   "source": [
    "result = [name for names in all_data for name in names\n",
    "          if name.count(\"a\") >= 2]"
   ]
  },
  {
   "cell_type": "code",
   "execution_count": 15,
   "metadata": {},
   "outputs": [
    {
     "data": {
      "text/plain": [
       "['Maria', 'Natalia']"
      ]
     },
     "execution_count": 15,
     "metadata": {},
     "output_type": "execute_result"
    }
   ],
   "source": [
    "result"
   ]
  },
  {
   "cell_type": "markdown",
   "metadata": {},
   "source": [
    "No início, as compreensões aninhadas da lista são um pouco difíceis de envolver a cabeça. O que é `for` As partes da compreensão da lista são organizadas de acordo com a ordem de nidificação, e qualquer condição de filtro é colocada no final como antes. Aqui está outro exemplo em que “achata” uma lista de tuplas de inteiros em uma lista simples de inteiros:"
   ]
  },
  {
   "cell_type": "code",
   "execution_count": 16,
   "metadata": {},
   "outputs": [],
   "source": [
    "some_tuples = [(1, 2, 3), (4, 5, 6), (7, 8, 9)]"
   ]
  },
  {
   "cell_type": "code",
   "execution_count": 17,
   "metadata": {},
   "outputs": [
    {
     "data": {
      "text/plain": [
       "[1, 2, 3, 4, 5, 6, 7, 8, 9]"
      ]
     },
     "execution_count": 17,
     "metadata": {},
     "output_type": "execute_result"
    }
   ],
   "source": [
    "flattened = [x for tup in some_tuples for x in tup]\n",
    "flattened"
   ]
  },
  {
   "cell_type": "markdown",
   "metadata": {},
   "source": [
    "Tenha em mente que a ordem do `for`As expressões seriam as mesmas se você escrevesse um aninhado `for`loop em vez de uma compreensão de lista:"
   ]
  },
  {
   "cell_type": "code",
   "execution_count": 18,
   "metadata": {},
   "outputs": [],
   "source": [
    "flattened = []\n",
    "\n",
    "for tup in some_tuples:\n",
    "    for x in tup:\n",
    "        flattened.append(x)"
   ]
  },
  {
   "cell_type": "markdown",
   "metadata": {},
   "source": [
    "Você pode ter arbitrariamente muitos níveis de nidificação, embora se você tiver mais de dois ou três níveis de nidificação, você provavelmente deve começar a questionar se isso faz sentido do ponto de vista da legibilidade do código. É importante distinguir a sintaxe que acabou de ser mostrada a partir de uma compreensão de lista dentro de uma compreensão de lista, que também é perfeitamente válida:"
   ]
  },
  {
   "cell_type": "code",
   "execution_count": 19,
   "metadata": {},
   "outputs": [
    {
     "data": {
      "text/plain": [
       "[[1, 2, 3], [4, 5, 6], [7, 8, 9]]"
      ]
     },
     "execution_count": 19,
     "metadata": {},
     "output_type": "execute_result"
    }
   ],
   "source": [
    "[[x for x in tup] for tup in some_tuples]"
   ]
  },
  {
   "cell_type": "markdown",
   "metadata": {},
   "source": [
    "Isso produz uma lista de listas, em vez de uma lista achatada de todos os elementos internos."
   ]
  }
 ],
 "metadata": {
  "kernelspec": {
   "display_name": "venv",
   "language": "python",
   "name": "python3"
  },
  "language_info": {
   "codemirror_mode": {
    "name": "ipython",
    "version": 3
   },
   "file_extension": ".py",
   "mimetype": "text/x-python",
   "name": "python",
   "nbconvert_exporter": "python",
   "pygments_lexer": "ipython3",
   "version": "3.11.8"
  }
 },
 "nbformat": 4,
 "nbformat_minor": 2
}
