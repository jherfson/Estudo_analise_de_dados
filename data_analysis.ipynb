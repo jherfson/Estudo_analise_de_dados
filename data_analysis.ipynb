{
 "cells": [
  {
   "cell_type": "markdown",
   "metadata": {},
   "source": [
    "# **Algumas coisas interessantes de Python**\n",
    "\n",
    "Compreensões de lista são um recurso de linguagem Python conveniente e amplamente utilizado. Eles permitem que você forme de forma concisa uma nova lista filtrando os elementos de uma coleção, transformando os elementos que passam o filtro em uma expressão concisa. Eles assumem a forma básica:\n",
    "\n",
    "``` [expr for value in collection if condition]```\n",
    "\n",
    "Isso é equivalente ao seguinte `for` o laço:\n",
    "\n",
    "```   \n",
    "result = []\n",
    "for value in collection:\n",
    "    if condition:\n",
    "        result.append(expr)\n",
    "```\n",
    "A condição do filtro pode ser omitida, deixando apenas a expressão. Por exemplo, dada uma lista de strings, podemos filtrar strings com comprimento 2ou menos e convertê-los em maiúsculas como esta:"
   ]
  },
  {
   "cell_type": "code",
   "execution_count": 2,
   "metadata": {},
   "outputs": [],
   "source": [
    "strings = [\"a\", \"as\", \"bat\", \"car\", \"dove\", \"python\"]"
   ]
  },
  {
   "cell_type": "code",
   "execution_count": 3,
   "metadata": {},
   "outputs": [
    {
     "data": {
      "text/plain": [
       "['BAT', 'CAR', 'DOVE', 'PYTHON']"
      ]
     },
     "execution_count": 3,
     "metadata": {},
     "output_type": "execute_result"
    }
   ],
   "source": [
    "[x.upper() for x in strings if len(x) > 2]"
   ]
  },
  {
   "cell_type": "markdown",
   "metadata": {},
   "source": [
    "As compreensões de conjunto e dicionário são uma extensão natural, produzindo conjuntos e dicionários de uma maneira idiomática semelhante em vez de listas.\n",
    "\n",
    "``` \n",
    "dict_comp = {key-expr: value-expr for value in collection\n",
    "             if condition}\n",
    "```\n",
    "Uma compreensão de conjunto parece a compreensão da lista equivalente, exceto com chaves encaracoladas em vez de colchetes:\n",
    "``` \n",
    "set_comp = {expr for value in collection if condition}\n",
    "```\n",
    "\n",
    "Como as compreensões de lista, as compreensões de conjunto e dicionário são principalmente conveniências, mas da mesma forma podem tornar o código mais fácil de escrever e ler. Considere a lista de strings de antes. Suponha que quiséssemos um conjunto contendo apenas os comprimentos das cadeias contidas na coleção; poderíamos facilmente calcular isso usando uma compreensão de conjunto:"
   ]
  },
  {
   "cell_type": "code",
   "execution_count": 6,
   "metadata": {},
   "outputs": [
    {
     "data": {
      "text/plain": [
       "{1, 2, 3, 4, 6}"
      ]
     },
     "execution_count": 6,
     "metadata": {},
     "output_type": "execute_result"
    }
   ],
   "source": [
    "unique_lengths = {len(x) for x in strings}\n",
    "unique_lengths"
   ]
  },
  {
   "cell_type": "markdown",
   "metadata": {},
   "source": [
    "Também poderíamos expressar isso mais funcionalmente usando o mapFunção, introduzida em breve:"
   ]
  },
  {
   "cell_type": "code",
   "execution_count": 7,
   "metadata": {},
   "outputs": [
    {
     "data": {
      "text/plain": [
       "{1, 2, 3, 4, 6}"
      ]
     },
     "execution_count": 7,
     "metadata": {},
     "output_type": "execute_result"
    }
   ],
   "source": [
    "set(map(len, strings))"
   ]
  },
  {
   "cell_type": "markdown",
   "metadata": {},
   "source": [
    "Como um simples exemplo de compreensão do dicionário, podemos criar um mapa de busca dessas strings para suas localizações na lista:"
   ]
  },
  {
   "cell_type": "code",
   "execution_count": 8,
   "metadata": {},
   "outputs": [
    {
     "data": {
      "text/plain": [
       "{'a': 0, 'as': 1, 'bat': 2, 'car': 3, 'dove': 4, 'python': 5}"
      ]
     },
     "execution_count": 8,
     "metadata": {},
     "output_type": "execute_result"
    }
   ],
   "source": [
    "loc_mapping = {value: index for index, value in enumerate(strings)}\n",
    "loc_mapping"
   ]
  },
  {
   "cell_type": "markdown",
   "metadata": {},
   "source": [
    "## **Compreensões de lista aninhadas**\n",
    "\n",
    "Suponha que temos uma lista de listas contendo alguns nomes em inglês e espanhol:"
   ]
  },
  {
   "cell_type": "code",
   "execution_count": 10,
   "metadata": {},
   "outputs": [],
   "source": [
    "all_data = [[\"John\", \"Emily\", \"Michael\", \"Mary\", \"Steven\"],\n",
    "           [\"Maria\", \"Juan\", \"Javier\", \"Natalia\", \"Pilar\"]]"
   ]
  },
  {
   "cell_type": "code",
   "execution_count": 11,
   "metadata": {},
   "outputs": [],
   "source": [
    "names_of_interest = []"
   ]
  },
  {
   "cell_type": "code",
   "execution_count": 12,
   "metadata": {},
   "outputs": [],
   "source": [
    "for names in all_data:\n",
    "   enough_as = [name for name in names if name.count(\"a\") >= 2]\n",
    "   names_of_interest.extend(enough_as)"
   ]
  },
  {
   "cell_type": "code",
   "execution_count": 13,
   "metadata": {},
   "outputs": [
    {
     "data": {
      "text/plain": [
       "['Maria', 'Natalia']"
      ]
     },
     "execution_count": 13,
     "metadata": {},
     "output_type": "execute_result"
    }
   ],
   "source": [
    "names_of_interest"
   ]
  },
  {
   "cell_type": "markdown",
   "metadata": {},
   "source": [
    "Você pode realmente envolver toda essa operação em uma única compreensão de lista aninhada, que será como:"
   ]
  },
  {
   "cell_type": "code",
   "execution_count": 14,
   "metadata": {},
   "outputs": [],
   "source": [
    "result = [name for names in all_data for name in names\n",
    "          if name.count(\"a\") >= 2]"
   ]
  },
  {
   "cell_type": "code",
   "execution_count": 15,
   "metadata": {},
   "outputs": [
    {
     "data": {
      "text/plain": [
       "['Maria', 'Natalia']"
      ]
     },
     "execution_count": 15,
     "metadata": {},
     "output_type": "execute_result"
    }
   ],
   "source": [
    "result"
   ]
  },
  {
   "cell_type": "markdown",
   "metadata": {},
   "source": [
    "No início, as compreensões aninhadas da lista são um pouco difíceis de envolver a cabeça. O que é `for` As partes da compreensão da lista são organizadas de acordo com a ordem de nidificação, e qualquer condição de filtro é colocada no final como antes. Aqui está outro exemplo em que “achata” uma lista de tuplas de inteiros em uma lista simples de inteiros:"
   ]
  },
  {
   "cell_type": "code",
   "execution_count": 16,
   "metadata": {},
   "outputs": [],
   "source": [
    "some_tuples = [(1, 2, 3), (4, 5, 6), (7, 8, 9)]"
   ]
  },
  {
   "cell_type": "code",
   "execution_count": 17,
   "metadata": {},
   "outputs": [
    {
     "data": {
      "text/plain": [
       "[1, 2, 3, 4, 5, 6, 7, 8, 9]"
      ]
     },
     "execution_count": 17,
     "metadata": {},
     "output_type": "execute_result"
    }
   ],
   "source": [
    "flattened = [x for tup in some_tuples for x in tup]\n",
    "flattened"
   ]
  },
  {
   "cell_type": "markdown",
   "metadata": {},
   "source": [
    "Tenha em mente que a ordem do `for`As expressões seriam as mesmas se você escrevesse um aninhado `for`loop em vez de uma compreensão de lista:"
   ]
  },
  {
   "cell_type": "code",
   "execution_count": 18,
   "metadata": {},
   "outputs": [],
   "source": [
    "flattened = []\n",
    "\n",
    "for tup in some_tuples:\n",
    "    for x in tup:\n",
    "        flattened.append(x)"
   ]
  },
  {
   "cell_type": "markdown",
   "metadata": {},
   "source": [
    "Você pode ter arbitrariamente muitos níveis de nidificação, embora se você tiver mais de dois ou três níveis de nidificação, você provavelmente deve começar a questionar se isso faz sentido do ponto de vista da legibilidade do código. É importante distinguir a sintaxe que acabou de ser mostrada a partir de uma compreensão de lista dentro de uma compreensão de lista, que também é perfeitamente válida:"
   ]
  },
  {
   "cell_type": "code",
   "execution_count": 19,
   "metadata": {},
   "outputs": [
    {
     "data": {
      "text/plain": [
       "[[1, 2, 3], [4, 5, 6], [7, 8, 9]]"
      ]
     },
     "execution_count": 19,
     "metadata": {},
     "output_type": "execute_result"
    }
   ],
   "source": [
    "[[x for x in tup] for tup in some_tuples]"
   ]
  },
  {
   "cell_type": "markdown",
   "metadata": {},
   "source": [
    "Isso produz uma lista de listas, em vez de uma lista achatada de todos os elementos internos."
   ]
  },
  {
   "cell_type": "markdown",
   "metadata": {},
   "source": [
    "## **Tratemento de erros e exceções**\n",
    "\n",
    "Lidar com erros ou exceções em Python graciosamente é uma parte importante da construção de programas robustos. Em aplicações de análise de dados, muitas funções funcionam apenas em certos tipos de entrada. Como exemplo, o Python’s `float`A função é capaz de lançar uma string para um número de ponto flutuante, mas falha com `ValueError`sobre entradas impróprias:\n",
    "```\n",
    "In [224]: float(\"1.2345\")\n",
    "Out[224]: 1.2345\n",
    "\n",
    "In [225]: float(\"something\")\n",
    "---------------------------------------------------------------------------\n",
    "ValueError                                Traceback (most recent call last)\n",
    "<ipython-input-225-5ccfe07933f4> in <module>\n",
    "----> 1 float(\"something\")\n",
    "ValueError: could not convert string to float: 'something'\n",
    "```\n",
    "Suponha que nós queríamos uma versão de floatque falha graciosamente, retornando o argumento da entrada. Podemos fazer isso escrevendo uma função que encerra o chamado para floatem uma try/ / A informação a que aproumentar a sua. A.A. exceptbloco (executar este código em IPython):\n"
   ]
  },
  {
   "cell_type": "code",
   "execution_count": 1,
   "metadata": {},
   "outputs": [],
   "source": [
    "def attempt_float(x):\n",
    "    try:\n",
    "        return float(x)\n",
    "    except:\n",
    "        return x"
   ]
  },
  {
   "cell_type": "markdown",
   "metadata": {},
   "source": [
    "O código no exceptparte do bloco só será executada se `float(x)` Levanta uma exceção:"
   ]
  },
  {
   "cell_type": "code",
   "execution_count": 2,
   "metadata": {},
   "outputs": [
    {
     "data": {
      "text/plain": [
       "1.2345"
      ]
     },
     "execution_count": 2,
     "metadata": {},
     "output_type": "execute_result"
    }
   ],
   "source": [
    "attempt_float(\"1.2345\")"
   ]
  },
  {
   "cell_type": "code",
   "execution_count": 3,
   "metadata": {},
   "outputs": [
    {
     "data": {
      "text/plain": [
       "'something'"
      ]
     },
     "execution_count": 3,
     "metadata": {},
     "output_type": "execute_result"
    }
   ],
   "source": [
    "attempt_float(\"something\")"
   ]
  },
  {
   "cell_type": "markdown",
   "metadata": {},
   "source": [
    "Você pode perceber que `float`pode levantar exceções além de `ValueError`:\n",
    "\n",
    "```\n",
    "In [229]: float((1, 2))\n",
    "---------------------------------------------------------------------------\n",
    "TypeError                                 Traceback (most recent call last)\n",
    "<ipython-input-229-82f777b0e564> in <module>\n",
    "----> 1 float((1, 2))\n",
    "TypeError: float() argument must be a string or a real number, not 'tuple'\n",
    "```\n",
    "Você pode querer suprimir apenas `ValueError`, desde que a `TypeError`(a entrada não era um valor de string ou numérico) pode indicar um bug legítimo em seu programa. Para fazer isso, escreva o tipo de exceção depois `except`:"
   ]
  },
  {
   "cell_type": "code",
   "execution_count": 4,
   "metadata": {},
   "outputs": [],
   "source": [
    "def attempt_float(x):\n",
    "    try:\n",
    "        return float(x)\n",
    "    except ValueError:\n",
    "        return x"
   ]
  },
  {
   "cell_type": "markdown",
   "metadata": {},
   "source": [
    "Temos então:"
   ]
  },
  {
   "cell_type": "code",
   "execution_count": 5,
   "metadata": {},
   "outputs": [
    {
     "ename": "TypeError",
     "evalue": "float() argument must be a string or a real number, not 'tuple'",
     "output_type": "error",
     "traceback": [
      "\u001b[1;31m---------------------------------------------------------------------------\u001b[0m",
      "\u001b[1;31mTypeError\u001b[0m                                 Traceback (most recent call last)",
      "Cell \u001b[1;32mIn[5], line 1\u001b[0m\n\u001b[1;32m----> 1\u001b[0m \u001b[43mattempt_float\u001b[49m\u001b[43m(\u001b[49m\u001b[43m(\u001b[49m\u001b[38;5;241;43m1\u001b[39;49m\u001b[43m,\u001b[49m\u001b[43m \u001b[49m\u001b[38;5;241;43m2\u001b[39;49m\u001b[43m)\u001b[49m\u001b[43m)\u001b[49m\n",
      "Cell \u001b[1;32mIn[4], line 3\u001b[0m, in \u001b[0;36mattempt_float\u001b[1;34m(x)\u001b[0m\n\u001b[0;32m      1\u001b[0m \u001b[38;5;28;01mdef\u001b[39;00m\u001b[38;5;250m \u001b[39m\u001b[38;5;21mattempt_float\u001b[39m(x):\n\u001b[0;32m      2\u001b[0m     \u001b[38;5;28;01mtry\u001b[39;00m:\n\u001b[1;32m----> 3\u001b[0m         \u001b[38;5;28;01mreturn\u001b[39;00m \u001b[38;5;28;43mfloat\u001b[39;49m\u001b[43m(\u001b[49m\u001b[43mx\u001b[49m\u001b[43m)\u001b[49m\n\u001b[0;32m      4\u001b[0m     \u001b[38;5;28;01mexcept\u001b[39;00m \u001b[38;5;167;01mValueError\u001b[39;00m:\n\u001b[0;32m      5\u001b[0m         \u001b[38;5;28;01mreturn\u001b[39;00m x\n",
      "\u001b[1;31mTypeError\u001b[0m: float() argument must be a string or a real number, not 'tuple'"
     ]
    }
   ],
   "source": [
    "attempt_float((1, 2))"
   ]
  },
  {
   "cell_type": "markdown",
   "metadata": {},
   "source": [
    "Você pode pegar vários tipos de exceção escrevendo uma tupla de tipos de exceção (os parênteses são necessários):"
   ]
  },
  {
   "cell_type": "code",
   "execution_count": null,
   "metadata": {},
   "outputs": [],
   "source": [
    "f = open(path, mode=\"w\")\n",
    "\n",
    "try:\n",
    "    write_to_file(f)\n",
    "finally:\n",
    "    f.close()"
   ]
  },
  {
   "cell_type": "markdown",
   "metadata": {},
   "source": [
    "Em alguns casos, você pode não querer suprimir uma exceção, mas quer que algum código seja executado independentemente de o código no `try`O bloco é bem sucedido. Para fazer isso, use `finally`:"
   ]
  },
  {
   "cell_type": "code",
   "execution_count": null,
   "metadata": {},
   "outputs": [],
   "source": [
    "f = open(path, mode=\"w\")\n",
    "\n",
    "try:\n",
    "    write_to_file(f)\n",
    "finally:\n",
    "    f.close()"
   ]
  },
  {
   "cell_type": "markdown",
   "metadata": {},
   "source": [
    "Aqui, o objeto de arquivo `f` Sempre será `always` fechado. Da mesma forma, você pode ter o código que é executado somente se o `try`:Bloco consegue usar `else`:"
   ]
  },
  {
   "cell_type": "code",
   "execution_count": null,
   "metadata": {},
   "outputs": [],
   "source": [
    "f = open(path, mode=\"w\")\n",
    "\n",
    "try:\n",
    "    write_to_file(f)\n",
    "except:\n",
    "    print(\"Failed\")\n",
    "else:\n",
    "    print(\"Succeeded\")\n",
    "finally:\n",
    "    f.close()"
   ]
  },
  {
   "cell_type": "markdown",
   "metadata": {},
   "source": [
    "## **Exceções em IPython**\n",
    "\n",
    "Se uma exceção é levantada enquanto você está `%run` ing um script ou executando qualquer instrução, o IPython imprimirá por padrão um rastreamento de pilha de chamadas completa (traceback) com algumas linhas de contexto em torno da posição em cada ponto da pilha:"
   ]
  },
  {
   "cell_type": "code",
   "execution_count": 1,
   "metadata": {},
   "outputs": [
    {
     "ename": "Exception",
     "evalue": "File `'examples/ipython_bug.py'` not found.",
     "output_type": "error",
     "traceback": [
      "\u001b[1;31m---------------------------------------------------------------------------\u001b[0m",
      "\u001b[1;31mOSError\u001b[0m                                   Traceback (most recent call last)",
      "File \u001b[1;32me:\\Documentos\\projetos\\Analise-de-dados\\venv\\Lib\\site-packages\\IPython\\core\\magics\\execution.py:720\u001b[0m, in \u001b[0;36mExecutionMagics.run\u001b[1;34m(self, parameter_s, runner, file_finder)\u001b[0m\n\u001b[0;32m    719\u001b[0m     fpath \u001b[38;5;241m=\u001b[39m arg_lst[\u001b[38;5;241m0\u001b[39m]\n\u001b[1;32m--> 720\u001b[0m     filename \u001b[38;5;241m=\u001b[39m \u001b[43mfile_finder\u001b[49m\u001b[43m(\u001b[49m\u001b[43mfpath\u001b[49m\u001b[43m)\u001b[49m\n\u001b[0;32m    721\u001b[0m \u001b[38;5;28;01mexcept\u001b[39;00m \u001b[38;5;167;01mIndexError\u001b[39;00m \u001b[38;5;28;01mas\u001b[39;00m e:\n",
      "File \u001b[1;32me:\\Documentos\\projetos\\Analise-de-dados\\venv\\Lib\\site-packages\\IPython\\utils\\path.py:91\u001b[0m, in \u001b[0;36mget_py_filename\u001b[1;34m(name)\u001b[0m\n\u001b[0;32m     90\u001b[0m         \u001b[38;5;28;01mreturn\u001b[39;00m py_name\n\u001b[1;32m---> 91\u001b[0m \u001b[38;5;28;01mraise\u001b[39;00m \u001b[38;5;167;01mIOError\u001b[39;00m(\u001b[38;5;124m\"\u001b[39m\u001b[38;5;124mFile `\u001b[39m\u001b[38;5;132;01m%r\u001b[39;00m\u001b[38;5;124m` not found.\u001b[39m\u001b[38;5;124m\"\u001b[39m \u001b[38;5;241m%\u001b[39m name)\n",
      "\u001b[1;31mOSError\u001b[0m: File `'examples/ipython_bug.py'` not found.",
      "\nThe above exception was the direct cause of the following exception:\n",
      "\u001b[1;31mException\u001b[0m                                 Traceback (most recent call last)",
      "Cell \u001b[1;32mIn[1], line 1\u001b[0m\n\u001b[1;32m----> 1\u001b[0m \u001b[43mget_ipython\u001b[49m\u001b[43m(\u001b[49m\u001b[43m)\u001b[49m\u001b[38;5;241;43m.\u001b[39;49m\u001b[43mrun_line_magic\u001b[49m\u001b[43m(\u001b[49m\u001b[38;5;124;43m'\u001b[39;49m\u001b[38;5;124;43mrun\u001b[39;49m\u001b[38;5;124;43m'\u001b[39;49m\u001b[43m,\u001b[49m\u001b[43m \u001b[49m\u001b[38;5;124;43m'\u001b[39;49m\u001b[38;5;124;43mexamples/ipython_bug.py\u001b[39;49m\u001b[38;5;124;43m'\u001b[39;49m\u001b[43m)\u001b[49m\n",
      "File \u001b[1;32me:\\Documentos\\projetos\\Analise-de-dados\\venv\\Lib\\site-packages\\IPython\\core\\interactiveshell.py:2480\u001b[0m, in \u001b[0;36mInteractiveShell.run_line_magic\u001b[1;34m(self, magic_name, line, _stack_depth)\u001b[0m\n\u001b[0;32m   2478\u001b[0m     kwargs[\u001b[38;5;124m'\u001b[39m\u001b[38;5;124mlocal_ns\u001b[39m\u001b[38;5;124m'\u001b[39m] \u001b[38;5;241m=\u001b[39m \u001b[38;5;28mself\u001b[39m\u001b[38;5;241m.\u001b[39mget_local_scope(stack_depth)\n\u001b[0;32m   2479\u001b[0m \u001b[38;5;28;01mwith\u001b[39;00m \u001b[38;5;28mself\u001b[39m\u001b[38;5;241m.\u001b[39mbuiltin_trap:\n\u001b[1;32m-> 2480\u001b[0m     result \u001b[38;5;241m=\u001b[39m \u001b[43mfn\u001b[49m\u001b[43m(\u001b[49m\u001b[38;5;241;43m*\u001b[39;49m\u001b[43margs\u001b[49m\u001b[43m,\u001b[49m\u001b[43m \u001b[49m\u001b[38;5;241;43m*\u001b[39;49m\u001b[38;5;241;43m*\u001b[39;49m\u001b[43mkwargs\u001b[49m\u001b[43m)\u001b[49m\n\u001b[0;32m   2482\u001b[0m \u001b[38;5;66;03m# The code below prevents the output from being displayed\u001b[39;00m\n\u001b[0;32m   2483\u001b[0m \u001b[38;5;66;03m# when using magics with decorator @output_can_be_silenced\u001b[39;00m\n\u001b[0;32m   2484\u001b[0m \u001b[38;5;66;03m# when the last Python token in the expression is a ';'.\u001b[39;00m\n\u001b[0;32m   2485\u001b[0m \u001b[38;5;28;01mif\u001b[39;00m \u001b[38;5;28mgetattr\u001b[39m(fn, magic\u001b[38;5;241m.\u001b[39mMAGIC_OUTPUT_CAN_BE_SILENCED, \u001b[38;5;28;01mFalse\u001b[39;00m):\n",
      "File \u001b[1;32me:\\Documentos\\projetos\\Analise-de-dados\\venv\\Lib\\site-packages\\IPython\\core\\magics\\execution.py:731\u001b[0m, in \u001b[0;36mExecutionMagics.run\u001b[1;34m(self, parameter_s, runner, file_finder)\u001b[0m\n\u001b[0;32m    729\u001b[0m     \u001b[38;5;28;01mif\u001b[39;00m os\u001b[38;5;241m.\u001b[39mname \u001b[38;5;241m==\u001b[39m \u001b[38;5;124m'\u001b[39m\u001b[38;5;124mnt\u001b[39m\u001b[38;5;124m'\u001b[39m \u001b[38;5;129;01mand\u001b[39;00m re\u001b[38;5;241m.\u001b[39mmatch(\u001b[38;5;124mr\u001b[39m\u001b[38;5;124m\"\u001b[39m\u001b[38;5;124m^\u001b[39m\u001b[38;5;124m'\u001b[39m\u001b[38;5;124m.*\u001b[39m\u001b[38;5;124m'\u001b[39m\u001b[38;5;124m$\u001b[39m\u001b[38;5;124m\"\u001b[39m,fpath):\n\u001b[0;32m    730\u001b[0m         warn(\u001b[38;5;124m'\u001b[39m\u001b[38;5;124mFor Windows, use double quotes to wrap a filename: \u001b[39m\u001b[38;5;132;01m%r\u001b[39;00m\u001b[38;5;124mun \u001b[39m\u001b[38;5;124m\"\u001b[39m\u001b[38;5;124mmypath\u001b[39m\u001b[38;5;130;01m\\\\\u001b[39;00m\u001b[38;5;124mmyfile.py\u001b[39m\u001b[38;5;124m\"\u001b[39m\u001b[38;5;124m'\u001b[39m)\n\u001b[1;32m--> 731\u001b[0m     \u001b[38;5;28;01mraise\u001b[39;00m \u001b[38;5;167;01mException\u001b[39;00m(msg) \u001b[38;5;28;01mfrom\u001b[39;00m\u001b[38;5;250m \u001b[39m\u001b[38;5;21;01me\u001b[39;00m\n\u001b[0;32m    732\u001b[0m \u001b[38;5;28;01mexcept\u001b[39;00m \u001b[38;5;167;01mTypeError\u001b[39;00m:\n\u001b[0;32m    733\u001b[0m     \u001b[38;5;28;01mif\u001b[39;00m fpath \u001b[38;5;129;01min\u001b[39;00m sys\u001b[38;5;241m.\u001b[39mmeta_path:\n",
      "\u001b[1;31mException\u001b[0m: File `'examples/ipython_bug.py'` not found."
     ]
    }
   ],
   "source": [
    "%run examples/ipython_bug.py"
   ]
  },
  {
   "cell_type": "markdown",
   "metadata": {},
   "source": [
    "# **Noções básicas de NumPy: matrizes e computação vetorizada**\n",
    "\n",
    "Numpy, abreviação de Numerical Python, é um dos pacotes fundamentais mais importantes para computação numérica em Python. Muitos pacotes computacionais que fornecem funcionalidade científica usam os objetos de matriz do NumPy como uma das interfaces padrão lingua francas para troca de dados. Grande parte do conhecimento sobre NumPy que eu cubro é transferível para pandas também.\n",
    "Aqui estão algumas das coisas que você vai encontrar em NumPy:\n",
    "* ndarray, uma matriz multidimensional eficiente que fornece operações aritméticas orientadas a matriz rápidas e recursos de transmissão flexíveis\n",
    "* Funções matemáticas para operações rápidas em matrizes inteiras de dados sem ter que gravar loops\n",
    "* Ferramentas para leitura / escrita de dados de matriz para disco e trabalhar com arquivos de memória\n",
    "* Álgebra linear, geração de números aleatórios e capacidades de transformação de Fourier\n",
    "* Uma API C para conectar o NumPy com bibliotecas escritas em C, C ++ ou FORTRAN\n",
    "\n",
    "Como o NumPy fornece uma API C abrangente e bem documentada, é fácil passar dados para bibliotecas externas escritas em uma linguagem de baixo nível e para bibliotecas externas retornarem dados ao Python como matrizes NumPy. Esse recurso tornou o Python uma linguagem de escolha para envolver bases de código legadas C, C ++ ou FORTRAN e dar a elas uma interface dinâmica e acessível.\n",
    "Embora o NumPy, por si só, não forneça modelagem ou funcionalidade científica, ter uma compreensão dos arrays NumPy e da computação orientada a matrizes ajudará você a usar ferramentas com semântica de computação de matriz, como pandas, de forma muito mais eficaz. Como o NumPy é um tópico grande, abordarei muitos recursos avançados do NumPy.\n",
    "Muitos desses recursos avançados não são necessários para seguir o resto deste livro, mas eles podem ajudá-lo à medida que você se aprofunda na computação científica em Python.\n",
    "\n",
    "Para a maioria dos aplicativos de análise de dados, as principais áreas de funcionalidade em que vou focar são:\n",
    "* Operações rápidas baseadas em matrizes para munging e limpeza de dados, subconfiguração e filtragem, transformação e qualquer outro tipo de computação\n",
    "* Algoritmos de array comuns, como classificação, operações exclusivas e definidas\n",
    "* Estatística descritiva eficiente e dados de agregação/resumo\n",
    "* Alinhamento de dados e manipulações de dados relacionais para mesclar e unir conjuntos de dados heterogêneos\n",
    "* Expressar lógica condicional como expressões de matriz em vez de loops com `if-elif-else` ramos de ramos\n",
    "* Manipulações de dados em grupo (agregação, transformação e aplicação de funções)\n",
    "\n",
    "Embora o NumPy forneça uma base computacional para o processamento geral de dados numéricos, muitos leitores vão querer usar pandas como base para a maioria dos tipos de estatísticas ou análises, especialmente em dados tabulares. Além disso, os pandas fornecem algumas funcionalidades mais específicas de domínio, como a manipulação de séries temporais, que não está presente no NumPy.\n",
    "Uma das razões pelas quais o NumPy é tão importante para cálculos numéricos em Python é porque ele é projetado para eficiência em grandes matrizes de dados. Há uma série de razões para isso:\n",
    "* O NumPy armazena internamente dados em um bloco contíguo de memória, independente de outros objetos Python integrados. A biblioteca de algoritmos do NumPy escrita na linguagem C pode operar nesta memória sem qualquer tipo de verificação ou outra sobrecarga. Os arrays NumPy também usam muito menos memória do que as sequências Python incorporadas.\n",
    "* As operações do NumPy realizam cálculos complexos em matrizes inteiras sem a necessidade de Python `for` loops, que podem ser lentos para grandes sequências. O NumPy é mais rápido que o código Python normal porque seus algoritmos baseados em C evitam o overhead presente com código Python interpretado regularmente."
   ]
  },
  {
   "cell_type": "code",
   "execution_count": 2,
   "metadata": {},
   "outputs": [],
   "source": [
    "import numpy as np"
   ]
  },
  {
   "cell_type": "code",
   "execution_count": 3,
   "metadata": {},
   "outputs": [],
   "source": [
    "my_arr = np.arange(1_000_00)"
   ]
  },
  {
   "cell_type": "code",
   "execution_count": 5,
   "metadata": {},
   "outputs": [],
   "source": [
    "my_list = list(range(1_000_000))"
   ]
  },
  {
   "cell_type": "markdown",
   "metadata": {},
   "source": [
    "Agora vamos multiplicar cada sequência por 2:"
   ]
  },
  {
   "cell_type": "code",
   "execution_count": 6,
   "metadata": {},
   "outputs": [
    {
     "name": "stdout",
     "output_type": "stream",
     "text": [
      "24.2 μs ± 159 ns per loop (mean ± std. dev. of 7 runs, 10,000 loops each)\n"
     ]
    }
   ],
   "source": [
    "%timeit my_arr2 = my_arr * 2"
   ]
  },
  {
   "cell_type": "code",
   "execution_count": 7,
   "metadata": {},
   "outputs": [
    {
     "name": "stdout",
     "output_type": "stream",
     "text": [
      "54 ms ± 4.78 ms per loop (mean ± std. dev. of 7 runs, 10 loops each)\n"
     ]
    }
   ],
   "source": [
    "%timeit my_list2 = [x * 2 for x in my_list]"
   ]
  },
  {
   "cell_type": "markdown",
   "metadata": {},
   "source": [
    "Os algoritmos baseados no NumPy são geralmente 10 a 100 vezes mais rápidos (ou mais) do que seus contrapartes Python puros e usam significativamente menos memória.\n",
    "\n",
    "## **O número: Um objeto de array multidimensional**\n",
    "\n",
    "Uma das principais características do NumPy é seu objeto de matriz N-dimensional, ou ndarray, que é um contêiner rápido e flexível para grandes conjuntos de dados em Python. As matrizes permitem que você execute operações matemáticas em blocos inteiros de dados usando sintaxe semelhante às operações equivalentes entre elementos escalares.\n",
    "Para dar um sabor de como o NumPy permite cálculos em lote com sintaxe semelhante a valores escalares em objetos Python integrados, eu primeiro importo NumPy e crio uma pequena matriz:"
   ]
  },
  {
   "cell_type": "code",
   "execution_count": 8,
   "metadata": {},
   "outputs": [],
   "source": [
    "import numpy as np"
   ]
  },
  {
   "cell_type": "code",
   "execution_count": 9,
   "metadata": {},
   "outputs": [],
   "source": [
    "data = np.array(\n",
    "    [\n",
    "        [1.5, -0.1, 3],\n",
    "        [0, -3, 6.5]\n",
    "    ]\n",
    ")"
   ]
  },
  {
   "cell_type": "code",
   "execution_count": 10,
   "metadata": {},
   "outputs": [
    {
     "data": {
      "text/plain": [
       "array([[ 1.5, -0.1,  3. ],\n",
       "       [ 0. , -3. ,  6.5]])"
      ]
     },
     "execution_count": 10,
     "metadata": {},
     "output_type": "execute_result"
    }
   ],
   "source": [
    "data"
   ]
  },
  {
   "cell_type": "markdown",
   "metadata": {},
   "source": [
    "Então, escrevo operações matemática com `data`:"
   ]
  },
  {
   "cell_type": "code",
   "execution_count": 11,
   "metadata": {},
   "outputs": [
    {
     "data": {
      "text/plain": [
       "array([[ 15.,  -1.,  30.],\n",
       "       [  0., -30.,  65.]])"
      ]
     },
     "execution_count": 11,
     "metadata": {},
     "output_type": "execute_result"
    }
   ],
   "source": [
    "data * 10"
   ]
  },
  {
   "cell_type": "code",
   "execution_count": 12,
   "metadata": {},
   "outputs": [
    {
     "data": {
      "text/plain": [
       "array([[ 3. , -0.2,  6. ],\n",
       "       [ 0. , -6. , 13. ]])"
      ]
     },
     "execution_count": 12,
     "metadata": {},
     "output_type": "execute_result"
    }
   ],
   "source": [
    "data + data"
   ]
  },
  {
   "cell_type": "markdown",
   "metadata": {},
   "source": [
    "No primeiro exemplo, todos os elementos foram multiplicados por  10. No segundo, os valores correspondentes em cada \"célula\" no array foram adicionados uns aos outros.\n",
    "\n",
    "Um ndarray é um recipiente genérico multidimensional para dados homogêneos; ou seja, todos os elementos devem ser do mesmo tipo. Cada matriz tem um `shape`, uma tupla indicando o tamanho de cada dimensão, e um `dtype`, um objeto que descreve o tipo de dados do array:"
   ]
  },
  {
   "cell_type": "code",
   "execution_count": 13,
   "metadata": {},
   "outputs": [
    {
     "data": {
      "text/plain": [
       "(2, 3)"
      ]
     },
     "execution_count": 13,
     "metadata": {},
     "output_type": "execute_result"
    }
   ],
   "source": [
    "data.shape"
   ]
  },
  {
   "cell_type": "code",
   "execution_count": 14,
   "metadata": {},
   "outputs": [
    {
     "data": {
      "text/plain": [
       "dtype('float64')"
      ]
     },
     "execution_count": 14,
     "metadata": {},
     "output_type": "execute_result"
    }
   ],
   "source": [
    "data.dtype"
   ]
  },
  {
   "cell_type": "code",
   "execution_count": null,
   "metadata": {},
   "outputs": [],
   "source": []
  }
 ],
 "metadata": {
  "kernelspec": {
   "display_name": "venv",
   "language": "python",
   "name": "python3"
  },
  "language_info": {
   "codemirror_mode": {
    "name": "ipython",
    "version": 3
   },
   "file_extension": ".py",
   "mimetype": "text/x-python",
   "name": "python",
   "nbconvert_exporter": "python",
   "pygments_lexer": "ipython3",
   "version": "3.11.8"
  }
 },
 "nbformat": 4,
 "nbformat_minor": 2
}
